{
  "nbformat": 4,
  "nbformat_minor": 0,
  "metadata": {
    "kernelspec": {
      "display_name": "Python 3",
      "language": "python",
      "name": "python3"
    },
    "language_info": {
      "codemirror_mode": {
        "name": "ipython",
        "version": 3
      },
      "file_extension": ".py",
      "mimetype": "text/x-python",
      "name": "python",
      "nbconvert_exporter": "python",
      "pygments_lexer": "ipython3",
      "version": "3.6.6"
    },
    "colab": {
      "name": "Monika Shinde -  Team 1 - Capstone Project.ipynb",
      "provenance": [],
      "collapsed_sections": [],
      "include_colab_link": true
    }
  },
  "cells": [
    {
      "cell_type": "markdown",
      "metadata": {
        "id": "view-in-github",
        "colab_type": "text"
      },
      "source": [
        "<a href=\"https://colab.research.google.com/github/M0n1ka-05/team1-telecom-churn-data-analysis/blob/main/Monika_Shinde_Team_1_Capstone_Project.ipynb\" target=\"_parent\"><img src=\"https://colab.research.google.com/assets/colab-badge.svg\" alt=\"Open In Colab\"/></a>"
      ]
    },
    {
      "cell_type": "markdown",
      "metadata": {
        "id": "Y06xIdG26kRF"
      },
      "source": [
        "## <b> Orange S.A., formerly France Télécom S.A., is a French multinational telecommunications corporation. The Orange Telecom's Churn Dataset, consists of cleaned customer activity data (features), along with a churn label specifying whether a customer canceled the subscription.\n",
        "\n",
        "## <b> Explore and analyze the data to discover key factors responsible for customer churn and come up with ways/recommendations to ensure customer retention. </b>"
      ]
    },
    {
      "cell_type": "markdown",
      "metadata": {
        "id": "JonkDFoLmITO"
      },
      "source": [
        "# ***Churn*** rate is the percentage of subscribers to a service that \n",
        "discontinue their subscription to that service in a given time period.\n",
        "\n",
        "So, here we are having a dataset of French multinational telecommunications corporation. And our tsk is to explore and analyze dataset, discover the factor responsible for churn, and come up with recommendation to ensure retention. \n",
        "\n",
        "\n",
        "\n",
        "---\n",
        "\n",
        "From just a genral idea , why people will leave any telecom services, there are few basic reasons: \n",
        "1. Network Issues\n",
        "2. Price\n",
        "3. Poor Customer services etc.\n",
        "\n",
        "Lets not assume any more , and analyze our actual dataset, and find out what caused churn there:\n",
        "\n",
        "# **Key Points after initial observation of dataset:**\n",
        "  \n",
        "\n",
        "1.   Column churn having value true are all customer who left , telecom service \n",
        "2.   Network conectivity of area might be reponsible for customer to change     there network provider.\n",
        "3.   Account length might be the number of days , customer has used particular service.\n",
        "4. Nunber and frequency of Customer care calls is more for customer who have cancelled subscription\n",
        "\n",
        "\n",
        "\n"
      ]
    },
    {
      "cell_type": "code",
      "metadata": {
        "id": "dByMsuzT8Tnw"
      },
      "source": [
        "#Import package\n",
        "import pandas as pd\n",
        "import numpy as np\n",
        "import seaborn as sns\n",
        "import matplotlib.pyplot as plt"
      ],
      "execution_count": 2,
      "outputs": []
    },
    {
      "cell_type": "code",
      "metadata": {
        "id": "8tA0ccJzkaU_",
        "outputId": "394a5c74-07ee-4986-e3c4-4fb74c7384cb",
        "colab": {
          "base_uri": "https://localhost:8080/"
        }
      },
      "source": [
        "from google.colab import drive\n",
        "drive.mount('/content/drive')"
      ],
      "execution_count": 3,
      "outputs": [
        {
          "output_type": "stream",
          "text": [
            "Mounted at /content/drive\n"
          ],
          "name": "stdout"
        }
      ]
    },
    {
      "cell_type": "code",
      "metadata": {
        "id": "yTYUJ81VkaiV"
      },
      "source": [
        "working_directory = '/content/drive/My Drive/AlmaBetter/Cohort Aravali/Module 2/Week 1/dat/'\n",
        "df = pd.read_csv(working_directory + 'telecom_churn.csv')"
      ],
      "execution_count": 4,
      "outputs": []
    },
    {
      "cell_type": "markdown",
      "metadata": {
        "id": "r8nCABPYD98t"
      },
      "source": [
        "# So lets, start with our basic observation of dataset:"
      ]
    },
    {
      "cell_type": "code",
      "metadata": {
        "id": "1gjvdIU7kakr",
        "outputId": "61ace1d6-5911-4dca-d672-a6e043b6b794",
        "colab": {
          "base_uri": "https://localhost:8080/",
          "height": 171
        }
      },
      "source": [
        "df.head(3)"
      ],
      "execution_count": 5,
      "outputs": [
        {
          "output_type": "execute_result",
          "data": {
            "text/html": [
              "<div>\n",
              "<style scoped>\n",
              "    .dataframe tbody tr th:only-of-type {\n",
              "        vertical-align: middle;\n",
              "    }\n",
              "\n",
              "    .dataframe tbody tr th {\n",
              "        vertical-align: top;\n",
              "    }\n",
              "\n",
              "    .dataframe thead th {\n",
              "        text-align: right;\n",
              "    }\n",
              "</style>\n",
              "<table border=\"1\" class=\"dataframe\">\n",
              "  <thead>\n",
              "    <tr style=\"text-align: right;\">\n",
              "      <th></th>\n",
              "      <th>State</th>\n",
              "      <th>Account length</th>\n",
              "      <th>Area code</th>\n",
              "      <th>International plan</th>\n",
              "      <th>Voice mail plan</th>\n",
              "      <th>Number vmail messages</th>\n",
              "      <th>Total day minutes</th>\n",
              "      <th>Total day calls</th>\n",
              "      <th>Total day charge</th>\n",
              "      <th>Total eve minutes</th>\n",
              "      <th>Total eve calls</th>\n",
              "      <th>Total eve charge</th>\n",
              "      <th>Total night minutes</th>\n",
              "      <th>Total night calls</th>\n",
              "      <th>Total night charge</th>\n",
              "      <th>Total intl minutes</th>\n",
              "      <th>Total intl calls</th>\n",
              "      <th>Total intl charge</th>\n",
              "      <th>Customer service calls</th>\n",
              "      <th>Churn</th>\n",
              "    </tr>\n",
              "  </thead>\n",
              "  <tbody>\n",
              "    <tr>\n",
              "      <th>0</th>\n",
              "      <td>KS</td>\n",
              "      <td>128</td>\n",
              "      <td>415</td>\n",
              "      <td>No</td>\n",
              "      <td>Yes</td>\n",
              "      <td>25</td>\n",
              "      <td>265.1</td>\n",
              "      <td>110</td>\n",
              "      <td>45.07</td>\n",
              "      <td>197.4</td>\n",
              "      <td>99</td>\n",
              "      <td>16.78</td>\n",
              "      <td>244.7</td>\n",
              "      <td>91</td>\n",
              "      <td>11.01</td>\n",
              "      <td>10.0</td>\n",
              "      <td>3</td>\n",
              "      <td>2.70</td>\n",
              "      <td>1</td>\n",
              "      <td>False</td>\n",
              "    </tr>\n",
              "    <tr>\n",
              "      <th>1</th>\n",
              "      <td>OH</td>\n",
              "      <td>107</td>\n",
              "      <td>415</td>\n",
              "      <td>No</td>\n",
              "      <td>Yes</td>\n",
              "      <td>26</td>\n",
              "      <td>161.6</td>\n",
              "      <td>123</td>\n",
              "      <td>27.47</td>\n",
              "      <td>195.5</td>\n",
              "      <td>103</td>\n",
              "      <td>16.62</td>\n",
              "      <td>254.4</td>\n",
              "      <td>103</td>\n",
              "      <td>11.45</td>\n",
              "      <td>13.7</td>\n",
              "      <td>3</td>\n",
              "      <td>3.70</td>\n",
              "      <td>1</td>\n",
              "      <td>False</td>\n",
              "    </tr>\n",
              "    <tr>\n",
              "      <th>2</th>\n",
              "      <td>NJ</td>\n",
              "      <td>137</td>\n",
              "      <td>415</td>\n",
              "      <td>No</td>\n",
              "      <td>No</td>\n",
              "      <td>0</td>\n",
              "      <td>243.4</td>\n",
              "      <td>114</td>\n",
              "      <td>41.38</td>\n",
              "      <td>121.2</td>\n",
              "      <td>110</td>\n",
              "      <td>10.30</td>\n",
              "      <td>162.6</td>\n",
              "      <td>104</td>\n",
              "      <td>7.32</td>\n",
              "      <td>12.2</td>\n",
              "      <td>5</td>\n",
              "      <td>3.29</td>\n",
              "      <td>0</td>\n",
              "      <td>False</td>\n",
              "    </tr>\n",
              "  </tbody>\n",
              "</table>\n",
              "</div>"
            ],
            "text/plain": [
              "  State  Account length  ...  Customer service calls  Churn\n",
              "0    KS             128  ...                       1  False\n",
              "1    OH             107  ...                       1  False\n",
              "2    NJ             137  ...                       0  False\n",
              "\n",
              "[3 rows x 20 columns]"
            ]
          },
          "metadata": {
            "tags": []
          },
          "execution_count": 5
        }
      ]
    },
    {
      "cell_type": "code",
      "metadata": {
        "id": "4RIIpzx5kaoC",
        "outputId": "9c3c3594-31a6-40bd-c367-7707abd546f4",
        "colab": {
          "base_uri": "https://localhost:8080/"
        }
      },
      "source": [
        "df.info()"
      ],
      "execution_count": 6,
      "outputs": [
        {
          "output_type": "stream",
          "text": [
            "<class 'pandas.core.frame.DataFrame'>\n",
            "RangeIndex: 3333 entries, 0 to 3332\n",
            "Data columns (total 20 columns):\n",
            " #   Column                  Non-Null Count  Dtype  \n",
            "---  ------                  --------------  -----  \n",
            " 0   State                   3333 non-null   object \n",
            " 1   Account length          3333 non-null   int64  \n",
            " 2   Area code               3333 non-null   int64  \n",
            " 3   International plan      3333 non-null   object \n",
            " 4   Voice mail plan         3333 non-null   object \n",
            " 5   Number vmail messages   3333 non-null   int64  \n",
            " 6   Total day minutes       3333 non-null   float64\n",
            " 7   Total day calls         3333 non-null   int64  \n",
            " 8   Total day charge        3333 non-null   float64\n",
            " 9   Total eve minutes       3333 non-null   float64\n",
            " 10  Total eve calls         3333 non-null   int64  \n",
            " 11  Total eve charge        3333 non-null   float64\n",
            " 12  Total night minutes     3333 non-null   float64\n",
            " 13  Total night calls       3333 non-null   int64  \n",
            " 14  Total night charge      3333 non-null   float64\n",
            " 15  Total intl minutes      3333 non-null   float64\n",
            " 16  Total intl calls        3333 non-null   int64  \n",
            " 17  Total intl charge       3333 non-null   float64\n",
            " 18  Customer service calls  3333 non-null   int64  \n",
            " 19  Churn                   3333 non-null   bool   \n",
            "dtypes: bool(1), float64(8), int64(8), object(3)\n",
            "memory usage: 498.1+ KB\n"
          ],
          "name": "stdout"
        }
      ]
    },
    {
      "cell_type": "code",
      "metadata": {
        "id": "pT28x8qYEZMi",
        "outputId": "3fd9437c-24c0-469f-a863-fefe3aac6f4d",
        "colab": {
          "base_uri": "https://localhost:8080/"
        }
      },
      "source": [
        "df.columns"
      ],
      "execution_count": 53,
      "outputs": [
        {
          "output_type": "execute_result",
          "data": {
            "text/plain": [
              "Index(['State', 'Account length', 'Area code', 'International plan',\n",
              "       'Voice mail plan', 'Number vmail messages', 'Total day minutes',\n",
              "       'Total day calls', 'Total day charge', 'Total eve minutes',\n",
              "       'Total eve calls', 'Total eve charge', 'Total night minutes',\n",
              "       'Total night calls', 'Total night charge', 'Total intl minutes',\n",
              "       'Total intl calls', 'Total intl charge', 'Customer service calls',\n",
              "       'Churn', 'State_AreaCode'],\n",
              "      dtype='object')"
            ]
          },
          "metadata": {
            "tags": []
          },
          "execution_count": 53
        }
      ]
    },
    {
      "cell_type": "code",
      "metadata": {
        "id": "O9zE7St1l_mZ"
      },
      "source": [
        "#No. of values with Churn == True\n",
        "cutomer_who_left = len(df[df['Churn'] == True])"
      ],
      "execution_count": 8,
      "outputs": []
    },
    {
      "cell_type": "code",
      "metadata": {
        "id": "Jt5goxInuMQh"
      },
      "source": [
        "#No. of values with Churn == True(Existing Customer)\n",
        "total_customer = len(df['Churn'])"
      ],
      "execution_count": 9,
      "outputs": []
    },
    {
      "cell_type": "code",
      "metadata": {
        "id": "ktc6YuHa0e7B",
        "outputId": "7991870e-482e-4bd6-fb78-79a4f6458a01",
        "colab": {
          "base_uri": "https://localhost:8080/"
        }
      },
      "source": [
        "#this is the approx churn percentage \n",
        "Percentage_of_cutomer_cancelled_subscription = (cutomer_who_left/total_customer)* 100\n",
        "\n",
        "print(f'Approx % of consumer who have cancelled there subscrition are: {Percentage_of_cutomer_cancelled_subscription} ')"
      ],
      "execution_count": 10,
      "outputs": [
        {
          "output_type": "stream",
          "text": [
            "Approx % of consumer who have cancelled there subscrition are: 14.491449144914492 \n"
          ],
          "name": "stdout"
        }
      ]
    },
    {
      "cell_type": "code",
      "metadata": {
        "id": "wAP43FIxl_z3"
      },
      "source": [
        "#now to simply out work lets make seprate df on basis of Chhurn data\n",
        "\n",
        "df_of_churn = df[df['Churn']==True]"
      ],
      "execution_count": 64,
      "outputs": []
    },
    {
      "cell_type": "code",
      "metadata": {
        "id": "TaDUutkJl_xW"
      },
      "source": [
        "df_existing_cust = df[df['Churn']==False]"
      ],
      "execution_count": 18,
      "outputs": []
    },
    {
      "cell_type": "code",
      "metadata": {
        "id": "Pi7l2FvQl_qp",
        "outputId": "2f1ac1f6-72af-4e7e-92d6-9e7619d87aa6",
        "colab": {
          "base_uri": "https://localhost:8080/",
          "height": 352
        }
      },
      "source": [
        "# account length  is somewht near  101 (approx)\n",
        "sns.distplot(df_of_churn['Account length'],hist=True)"
      ],
      "execution_count": 19,
      "outputs": [
        {
          "output_type": "stream",
          "text": [
            "/usr/local/lib/python3.6/dist-packages/seaborn/distributions.py:2551: FutureWarning: `distplot` is a deprecated function and will be removed in a future version. Please adapt your code to use either `displot` (a figure-level function with similar flexibility) or `histplot` (an axes-level function for histograms).\n",
            "  warnings.warn(msg, FutureWarning)\n"
          ],
          "name": "stderr"
        },
        {
          "output_type": "execute_result",
          "data": {
            "text/plain": [
              "<matplotlib.axes._subplots.AxesSubplot at 0x7f86709fdfd0>"
            ]
          },
          "metadata": {
            "tags": []
          },
          "execution_count": 19
        },
        {
          "output_type": "display_data",
          "data": {
            "image/png": "[encoded data removed]",
            "text/plain": [
              "<Figure size 432x288 with 1 Axes>"
            ]
          },
          "metadata": {
            "tags": [],
            "needs_background": "light"
          }
        }
      ]
    },
    {
      "cell_type": "code",
      "metadata": {
        "id": "T3zrVWuFxL3l",
        "outputId": "36dc0a19-70b6-4b12-b44d-355cb3547fa6",
        "colab": {
          "base_uri": "https://localhost:8080/",
          "height": 352
        }
      },
      "source": [
        "#existing customer\n",
        "sns.distplot(df_existing_cust['Account length'],hist=True)"
      ],
      "execution_count": 24,
      "outputs": [
        {
          "output_type": "stream",
          "text": [
            "/usr/local/lib/python3.6/dist-packages/seaborn/distributions.py:2551: FutureWarning: `distplot` is a deprecated function and will be removed in a future version. Please adapt your code to use either `displot` (a figure-level function with similar flexibility) or `histplot` (an axes-level function for histograms).\n",
            "  warnings.warn(msg, FutureWarning)\n"
          ],
          "name": "stderr"
        },
        {
          "output_type": "execute_result",
          "data": {
            "text/plain": [
              "<matplotlib.axes._subplots.AxesSubplot at 0x7f8670915278>"
            ]
          },
          "metadata": {
            "tags": []
          },
          "execution_count": 24
        },
        {
          "output_type": "display_data",
          "data": {
            "image/png": "[encoded data removed]",
            "text/plain": [
              "<Figure size 432x288 with 1 Axes>"
            ]
          },
          "metadata": {
            "tags": [],
            "needs_background": "light"
          }
        }
      ]
    },
    {
      "cell_type": "code",
      "metadata": {
        "id": "D_OEMqMLOh-y"
      },
      "source": [
        "# frequency of customer calls is more for chruned dataset"
      ],
      "execution_count": null,
      "outputs": []
    },
    {
      "cell_type": "code",
      "metadata": {
        "id": "NsInwbSkl_t4",
        "outputId": "579aea7f-3b25-4fca-e5df-d2a29a280de7",
        "colab": {
          "base_uri": "https://localhost:8080/",
          "height": 296
        }
      },
      "source": [
        "sns.histplot(df_of_churn['Customer service calls'])\n"
      ],
      "execution_count": 21,
      "outputs": [
        {
          "output_type": "execute_result",
          "data": {
            "text/plain": [
              "<matplotlib.axes._subplots.AxesSubplot at 0x7f86709428d0>"
            ]
          },
          "metadata": {
            "tags": []
          },
          "execution_count": 21
        },
        {
          "output_type": "display_data",
          "data": {
            "image/png": "[encoded data removed]",
            "text/plain": [
              "<Figure size 432x288 with 1 Axes>"
            ]
          },
          "metadata": {
            "tags": [],
            "needs_background": "light"
          }
        }
      ]
    },
    {
      "cell_type": "code",
      "metadata": {
        "id": "5ybrJ77muYjZ",
        "outputId": "871ecb34-8301-4bed-d930-fd106261ca27",
        "colab": {
          "base_uri": "https://localhost:8080/",
          "height": 296
        }
      },
      "source": [
        "sns.histplot(df_existing_cust['Customer service calls'])"
      ],
      "execution_count": 22,
      "outputs": [
        {
          "output_type": "execute_result",
          "data": {
            "text/plain": [
              "<matplotlib.axes._subplots.AxesSubplot at 0x7f867082ca20>"
            ]
          },
          "metadata": {
            "tags": []
          },
          "execution_count": 22
        },
        {
          "output_type": "display_data",
          "data": {
            "image/png": "[encoded data removed]",
            "text/plain": [
              "<Figure size 432x288 with 1 Axes>"
            ]
          },
          "metadata": {
            "tags": [],
            "needs_background": "light"
          }
        }
      ]
    },
    {
      "cell_type": "code",
      "metadata": {
        "id": "bsaOwL5Il_k5",
        "outputId": "7be9e234-83c4-4fa7-f78f-933d658beb15",
        "colab": {
          "base_uri": "https://localhost:8080/"
        }
      },
      "source": [
        "#statewise count \n",
        "df_of_churn.groupby('State')['State'].count().sort_values(ascending = True)"
      ],
      "execution_count": 23,
      "outputs": [
        {
          "output_type": "execute_result",
          "data": {
            "text/plain": [
              "State\n",
              "AK     3\n",
              "IA     3\n",
              "HI     3\n",
              "AZ     4\n",
              "LA     4\n",
              "NE     5\n",
              "VA     5\n",
              "TN     5\n",
              "DC     5\n",
              "IL     5\n",
              "NM     6\n",
              "RI     6\n",
              "ND     6\n",
              "WI     7\n",
              "MO     7\n",
              "AL     8\n",
              "GA     8\n",
              "PA     8\n",
              "KY     8\n",
              "FL     8\n",
              "SD     8\n",
              "VT     8\n",
              "OK     9\n",
              "NH     9\n",
              "WY     9\n",
              "CA     9\n",
              "CO     9\n",
              "DE     9\n",
              "ID     9\n",
              "IN     9\n",
              "WV    10\n",
              "UT    10\n",
              "OH    10\n",
              "AR    11\n",
              "OR    11\n",
              "MA    11\n",
              "NC    11\n",
              "CT    12\n",
              "KS    13\n",
              "ME    13\n",
              "NV    14\n",
              "SC    14\n",
              "WA    14\n",
              "MT    14\n",
              "MS    14\n",
              "MN    15\n",
              "NY    15\n",
              "MI    16\n",
              "MD    17\n",
              "NJ    18\n",
              "TX    18\n",
              "Name: State, dtype: int64"
            ]
          },
          "metadata": {
            "tags": []
          },
          "execution_count": 23
        }
      ]
    },
    {
      "cell_type": "code",
      "metadata": {
        "id": "Emvl1zgN8mCl",
        "outputId": "5af60a9a-983e-4a64-f764-ca5af5488a51",
        "colab": {
          "base_uri": "https://localhost:8080/"
        }
      },
      "source": [
        "df_existing_cust.groupby('State')['State'].count().sort_values(ascending = True)"
      ],
      "execution_count": 26,
      "outputs": [
        {
          "output_type": "execute_result",
          "data": {
            "text/plain": [
              "State\n",
              "CA    25\n",
              "PA    37\n",
              "IA    41\n",
              "AR    44\n",
              "SC    46\n",
              "GA    46\n",
              "NH    47\n",
              "LA    47\n",
              "TN    48\n",
              "AK    49\n",
              "DC    49\n",
              "ME    49\n",
              "NJ    50\n",
              "HI    50\n",
              "KY    51\n",
              "MS    51\n",
              "NV    52\n",
              "WA    52\n",
              "SD    52\n",
              "OK    52\n",
              "DE    52\n",
              "IL    53\n",
              "MD    53\n",
              "MA    54\n",
              "TX    54\n",
              "MT    54\n",
              "FL    55\n",
              "MO    56\n",
              "ND    56\n",
              "NE    56\n",
              "NM    56\n",
              "CO    57\n",
              "KS    57\n",
              "NC    57\n",
              "MI    57\n",
              "RI    59\n",
              "AZ    60\n",
              "IN    62\n",
              "UT    62\n",
              "CT    62\n",
              "ID    64\n",
              "VT    65\n",
              "OR    67\n",
              "WY    68\n",
              "OH    68\n",
              "NY    68\n",
              "MN    69\n",
              "WI    71\n",
              "VA    72\n",
              "AL    72\n",
              "WV    96\n",
              "Name: State, dtype: int64"
            ]
          },
          "metadata": {
            "tags": []
          },
          "execution_count": 26
        }
      ]
    },
    {
      "cell_type": "code",
      "metadata": {
        "id": "UF1PvESB8m1h"
      },
      "source": [
        "df['State_AreaCode'] = df[['State', 'Area code']].apply(lambda x:  x['State'] + str(x[\"Area code\"]), axis = 1) "
      ],
      "execution_count": 30,
      "outputs": []
    },
    {
      "cell_type": "code",
      "metadata": {
        "id": "QB2K9B0jl_iX",
        "outputId": "1d20645f-2f73-4763-d035-f11682c0a06b",
        "colab": {
          "base_uri": "https://localhost:8080/",
          "height": 131
        }
      },
      "source": [
        "df.head(1)"
      ],
      "execution_count": 32,
      "outputs": [
        {
          "output_type": "execute_result",
          "data": {
            "text/html": [
              "<div>\n",
              "<style scoped>\n",
              "    .dataframe tbody tr th:only-of-type {\n",
              "        vertical-align: middle;\n",
              "    }\n",
              "\n",
              "    .dataframe tbody tr th {\n",
              "        vertical-align: top;\n",
              "    }\n",
              "\n",
              "    .dataframe thead th {\n",
              "        text-align: right;\n",
              "    }\n",
              "</style>\n",
              "<table border=\"1\" class=\"dataframe\">\n",
              "  <thead>\n",
              "    <tr style=\"text-align: right;\">\n",
              "      <th></th>\n",
              "      <th>State</th>\n",
              "      <th>Account length</th>\n",
              "      <th>Area code</th>\n",
              "      <th>International plan</th>\n",
              "      <th>Voice mail plan</th>\n",
              "      <th>Number vmail messages</th>\n",
              "      <th>Total day minutes</th>\n",
              "      <th>Total day calls</th>\n",
              "      <th>Total day charge</th>\n",
              "      <th>Total eve minutes</th>\n",
              "      <th>Total eve calls</th>\n",
              "      <th>Total eve charge</th>\n",
              "      <th>Total night minutes</th>\n",
              "      <th>Total night calls</th>\n",
              "      <th>Total night charge</th>\n",
              "      <th>Total intl minutes</th>\n",
              "      <th>Total intl calls</th>\n",
              "      <th>Total intl charge</th>\n",
              "      <th>Customer service calls</th>\n",
              "      <th>Churn</th>\n",
              "      <th>State_AreaCode</th>\n",
              "    </tr>\n",
              "  </thead>\n",
              "  <tbody>\n",
              "    <tr>\n",
              "      <th>0</th>\n",
              "      <td>KS</td>\n",
              "      <td>128</td>\n",
              "      <td>415</td>\n",
              "      <td>No</td>\n",
              "      <td>Yes</td>\n",
              "      <td>25</td>\n",
              "      <td>265.1</td>\n",
              "      <td>110</td>\n",
              "      <td>45.07</td>\n",
              "      <td>197.4</td>\n",
              "      <td>99</td>\n",
              "      <td>16.78</td>\n",
              "      <td>244.7</td>\n",
              "      <td>91</td>\n",
              "      <td>11.01</td>\n",
              "      <td>10.0</td>\n",
              "      <td>3</td>\n",
              "      <td>2.7</td>\n",
              "      <td>1</td>\n",
              "      <td>False</td>\n",
              "      <td>KS415</td>\n",
              "    </tr>\n",
              "  </tbody>\n",
              "</table>\n",
              "</div>"
            ],
            "text/plain": [
              "  State  Account length  ...  Churn State_AreaCode\n",
              "0    KS             128  ...  False          KS415\n",
              "\n",
              "[1 rows x 21 columns]"
            ]
          },
          "metadata": {
            "tags": []
          },
          "execution_count": 32
        }
      ]
    },
    {
      "cell_type": "code",
      "metadata": {
        "id": "sHpJd23kl_de",
        "outputId": "ae2242cf-79f1-4978-8786-342b77ac0230",
        "colab": {
          "base_uri": "https://localhost:8080/",
          "height": 282
        }
      },
      "source": [
        "#area code analysis for churned dataset\n",
        "\n",
        "arc,count= np.unique(df_of_churn['Area code'],return_counts=True)\n",
        "sns.barplot(x=arc, y= count)"
      ],
      "execution_count": 34,
      "outputs": [
        {
          "output_type": "execute_result",
          "data": {
            "text/plain": [
              "<matplotlib.axes._subplots.AxesSubplot at 0x7f867049bc88>"
            ]
          },
          "metadata": {
            "tags": []
          },
          "execution_count": 34
        },
        {
          "output_type": "display_data",
          "data": {
            "image/png": "[encoded data removed]",
            "text/plain": [
              "<Figure size 432x288 with 1 Axes>"
            ]
          },
          "metadata": {
            "tags": [],
            "needs_background": "light"
          }
        }
      ]
    },
    {
      "cell_type": "code",
      "metadata": {
        "id": "IfTJeaLYSYIx",
        "outputId": "f90710c3-06bd-4129-8d1a-08f1c68a9c6e",
        "colab": {
          "base_uri": "https://localhost:8080/",
          "height": 282
        }
      },
      "source": [
        "arc,count= np.unique(df_existing_cust['Area code'],return_counts=True)\n",
        "sns.barplot(x=arc, y= count)"
      ],
      "execution_count": 35,
      "outputs": [
        {
          "output_type": "execute_result",
          "data": {
            "text/plain": [
              "<matplotlib.axes._subplots.AxesSubplot at 0x7f86704819e8>"
            ]
          },
          "metadata": {
            "tags": []
          },
          "execution_count": 35
        },
        {
          "output_type": "display_data",
          "data": {
            "image/png": "[encoded data removed]",
            "text/plain": [
              "<Figure size 432x288 with 1 Axes>"
            ]
          },
          "metadata": {
            "tags": [],
            "needs_background": "light"
          }
        }
      ]
    },
    {
      "cell_type": "code",
      "metadata": {
        "id": "eATtaXfRSYMW",
        "outputId": "98487fa8-75c7-4ab9-808f-9e01a44ecaa3",
        "colab": {
          "base_uri": "https://localhost:8080/"
        }
      },
      "source": [
        "np.unique(df['Area code'])"
      ],
      "execution_count": 36,
      "outputs": [
        {
          "output_type": "execute_result",
          "data": {
            "text/plain": [
              "array([408, 415, 510])"
            ]
          },
          "metadata": {
            "tags": []
          },
          "execution_count": 36
        }
      ]
    },
    {
      "cell_type": "code",
      "metadata": {
        "id": "HxttUXi0SYTk",
        "outputId": "e0071d22-4749-4230-ea8f-8b297f1cf9dd",
        "colab": {
          "base_uri": "https://localhost:8080/",
          "height": 131
        }
      },
      "source": [
        "df.head(1)"
      ],
      "execution_count": 37,
      "outputs": [
        {
          "output_type": "execute_result",
          "data": {
            "text/html": [
              "<div>\n",
              "<style scoped>\n",
              "    .dataframe tbody tr th:only-of-type {\n",
              "        vertical-align: middle;\n",
              "    }\n",
              "\n",
              "    .dataframe tbody tr th {\n",
              "        vertical-align: top;\n",
              "    }\n",
              "\n",
              "    .dataframe thead th {\n",
              "        text-align: right;\n",
              "    }\n",
              "</style>\n",
              "<table border=\"1\" class=\"dataframe\">\n",
              "  <thead>\n",
              "    <tr style=\"text-align: right;\">\n",
              "      <th></th>\n",
              "      <th>State</th>\n",
              "      <th>Account length</th>\n",
              "      <th>Area code</th>\n",
              "      <th>International plan</th>\n",
              "      <th>Voice mail plan</th>\n",
              "      <th>Number vmail messages</th>\n",
              "      <th>Total day minutes</th>\n",
              "      <th>Total day calls</th>\n",
              "      <th>Total day charge</th>\n",
              "      <th>Total eve minutes</th>\n",
              "      <th>Total eve calls</th>\n",
              "      <th>Total eve charge</th>\n",
              "      <th>Total night minutes</th>\n",
              "      <th>Total night calls</th>\n",
              "      <th>Total night charge</th>\n",
              "      <th>Total intl minutes</th>\n",
              "      <th>Total intl calls</th>\n",
              "      <th>Total intl charge</th>\n",
              "      <th>Customer service calls</th>\n",
              "      <th>Churn</th>\n",
              "      <th>State_AreaCode</th>\n",
              "    </tr>\n",
              "  </thead>\n",
              "  <tbody>\n",
              "    <tr>\n",
              "      <th>0</th>\n",
              "      <td>KS</td>\n",
              "      <td>128</td>\n",
              "      <td>415</td>\n",
              "      <td>No</td>\n",
              "      <td>Yes</td>\n",
              "      <td>25</td>\n",
              "      <td>265.1</td>\n",
              "      <td>110</td>\n",
              "      <td>45.07</td>\n",
              "      <td>197.4</td>\n",
              "      <td>99</td>\n",
              "      <td>16.78</td>\n",
              "      <td>244.7</td>\n",
              "      <td>91</td>\n",
              "      <td>11.01</td>\n",
              "      <td>10.0</td>\n",
              "      <td>3</td>\n",
              "      <td>2.7</td>\n",
              "      <td>1</td>\n",
              "      <td>False</td>\n",
              "      <td>KS415</td>\n",
              "    </tr>\n",
              "  </tbody>\n",
              "</table>\n",
              "</div>"
            ],
            "text/plain": [
              "  State  Account length  ...  Churn State_AreaCode\n",
              "0    KS             128  ...  False          KS415\n",
              "\n",
              "[1 rows x 21 columns]"
            ]
          },
          "metadata": {
            "tags": []
          },
          "execution_count": 37
        }
      ]
    },
    {
      "cell_type": "code",
      "metadata": {
        "id": "m5UJVCPXSYSK",
        "outputId": "833c4b9f-5fd4-489b-db4b-2c81c24df6fb",
        "colab": {
          "base_uri": "https://localhost:8080/",
          "height": 460
        }
      },
      "source": [
        "#Chrun analysis considering column International plans\n",
        "df[(df[\"International plan\"]=='No')&(df[\"Churn\"]==True)]\n"
      ],
      "execution_count": 46,
      "outputs": [
        {
          "output_type": "execute_result",
          "data": {
            "text/html": [
              "<div>\n",
              "<style scoped>\n",
              "    .dataframe tbody tr th:only-of-type {\n",
              "        vertical-align: middle;\n",
              "    }\n",
              "\n",
              "    .dataframe tbody tr th {\n",
              "        vertical-align: top;\n",
              "    }\n",
              "\n",
              "    .dataframe thead th {\n",
              "        text-align: right;\n",
              "    }\n",
              "</style>\n",
              "<table border=\"1\" class=\"dataframe\">\n",
              "  <thead>\n",
              "    <tr style=\"text-align: right;\">\n",
              "      <th></th>\n",
              "      <th>State</th>\n",
              "      <th>Account length</th>\n",
              "      <th>Area code</th>\n",
              "      <th>International plan</th>\n",
              "      <th>Voice mail plan</th>\n",
              "      <th>Number vmail messages</th>\n",
              "      <th>Total day minutes</th>\n",
              "      <th>Total day calls</th>\n",
              "      <th>Total day charge</th>\n",
              "      <th>Total eve minutes</th>\n",
              "      <th>Total eve calls</th>\n",
              "      <th>Total eve charge</th>\n",
              "      <th>Total night minutes</th>\n",
              "      <th>Total night calls</th>\n",
              "      <th>Total night charge</th>\n",
              "      <th>Total intl minutes</th>\n",
              "      <th>Total intl calls</th>\n",
              "      <th>Total intl charge</th>\n",
              "      <th>Customer service calls</th>\n",
              "      <th>Churn</th>\n",
              "      <th>State_AreaCode</th>\n",
              "    </tr>\n",
              "  </thead>\n",
              "  <tbody>\n",
              "    <tr>\n",
              "      <th>10</th>\n",
              "      <td>IN</td>\n",
              "      <td>65</td>\n",
              "      <td>415</td>\n",
              "      <td>No</td>\n",
              "      <td>No</td>\n",
              "      <td>0</td>\n",
              "      <td>129.1</td>\n",
              "      <td>137</td>\n",
              "      <td>21.95</td>\n",
              "      <td>228.5</td>\n",
              "      <td>83</td>\n",
              "      <td>19.42</td>\n",
              "      <td>208.8</td>\n",
              "      <td>111</td>\n",
              "      <td>9.40</td>\n",
              "      <td>12.7</td>\n",
              "      <td>6</td>\n",
              "      <td>3.43</td>\n",
              "      <td>4</td>\n",
              "      <td>True</td>\n",
              "      <td>IN415</td>\n",
              "    </tr>\n",
              "    <tr>\n",
              "      <th>15</th>\n",
              "      <td>NY</td>\n",
              "      <td>161</td>\n",
              "      <td>415</td>\n",
              "      <td>No</td>\n",
              "      <td>No</td>\n",
              "      <td>0</td>\n",
              "      <td>332.9</td>\n",
              "      <td>67</td>\n",
              "      <td>56.59</td>\n",
              "      <td>317.8</td>\n",
              "      <td>97</td>\n",
              "      <td>27.01</td>\n",
              "      <td>160.6</td>\n",
              "      <td>128</td>\n",
              "      <td>7.23</td>\n",
              "      <td>5.4</td>\n",
              "      <td>9</td>\n",
              "      <td>1.46</td>\n",
              "      <td>4</td>\n",
              "      <td>True</td>\n",
              "      <td>NY415</td>\n",
              "    </tr>\n",
              "    <tr>\n",
              "      <th>21</th>\n",
              "      <td>CO</td>\n",
              "      <td>77</td>\n",
              "      <td>408</td>\n",
              "      <td>No</td>\n",
              "      <td>No</td>\n",
              "      <td>0</td>\n",
              "      <td>62.4</td>\n",
              "      <td>89</td>\n",
              "      <td>10.61</td>\n",
              "      <td>169.9</td>\n",
              "      <td>121</td>\n",
              "      <td>14.44</td>\n",
              "      <td>209.6</td>\n",
              "      <td>64</td>\n",
              "      <td>9.43</td>\n",
              "      <td>5.7</td>\n",
              "      <td>6</td>\n",
              "      <td>1.54</td>\n",
              "      <td>5</td>\n",
              "      <td>True</td>\n",
              "      <td>CO408</td>\n",
              "    </tr>\n",
              "    <tr>\n",
              "      <th>33</th>\n",
              "      <td>AZ</td>\n",
              "      <td>12</td>\n",
              "      <td>408</td>\n",
              "      <td>No</td>\n",
              "      <td>No</td>\n",
              "      <td>0</td>\n",
              "      <td>249.6</td>\n",
              "      <td>118</td>\n",
              "      <td>42.43</td>\n",
              "      <td>252.4</td>\n",
              "      <td>119</td>\n",
              "      <td>21.45</td>\n",
              "      <td>280.2</td>\n",
              "      <td>90</td>\n",
              "      <td>12.61</td>\n",
              "      <td>11.8</td>\n",
              "      <td>3</td>\n",
              "      <td>3.19</td>\n",
              "      <td>1</td>\n",
              "      <td>True</td>\n",
              "      <td>AZ408</td>\n",
              "    </tr>\n",
              "    <tr>\n",
              "      <th>48</th>\n",
              "      <td>ID</td>\n",
              "      <td>119</td>\n",
              "      <td>415</td>\n",
              "      <td>No</td>\n",
              "      <td>No</td>\n",
              "      <td>0</td>\n",
              "      <td>159.1</td>\n",
              "      <td>114</td>\n",
              "      <td>27.05</td>\n",
              "      <td>231.3</td>\n",
              "      <td>117</td>\n",
              "      <td>19.66</td>\n",
              "      <td>143.2</td>\n",
              "      <td>91</td>\n",
              "      <td>6.44</td>\n",
              "      <td>8.8</td>\n",
              "      <td>3</td>\n",
              "      <td>2.38</td>\n",
              "      <td>5</td>\n",
              "      <td>True</td>\n",
              "      <td>ID415</td>\n",
              "    </tr>\n",
              "    <tr>\n",
              "      <th>...</th>\n",
              "      <td>...</td>\n",
              "      <td>...</td>\n",
              "      <td>...</td>\n",
              "      <td>...</td>\n",
              "      <td>...</td>\n",
              "      <td>...</td>\n",
              "      <td>...</td>\n",
              "      <td>...</td>\n",
              "      <td>...</td>\n",
              "      <td>...</td>\n",
              "      <td>...</td>\n",
              "      <td>...</td>\n",
              "      <td>...</td>\n",
              "      <td>...</td>\n",
              "      <td>...</td>\n",
              "      <td>...</td>\n",
              "      <td>...</td>\n",
              "      <td>...</td>\n",
              "      <td>...</td>\n",
              "      <td>...</td>\n",
              "      <td>...</td>\n",
              "    </tr>\n",
              "    <tr>\n",
              "      <th>3280</th>\n",
              "      <td>AR</td>\n",
              "      <td>76</td>\n",
              "      <td>408</td>\n",
              "      <td>No</td>\n",
              "      <td>No</td>\n",
              "      <td>0</td>\n",
              "      <td>107.3</td>\n",
              "      <td>140</td>\n",
              "      <td>18.24</td>\n",
              "      <td>238.2</td>\n",
              "      <td>133</td>\n",
              "      <td>20.25</td>\n",
              "      <td>271.8</td>\n",
              "      <td>116</td>\n",
              "      <td>12.23</td>\n",
              "      <td>10.0</td>\n",
              "      <td>3</td>\n",
              "      <td>2.70</td>\n",
              "      <td>4</td>\n",
              "      <td>True</td>\n",
              "      <td>AR408</td>\n",
              "    </tr>\n",
              "    <tr>\n",
              "      <th>3287</th>\n",
              "      <td>KS</td>\n",
              "      <td>170</td>\n",
              "      <td>415</td>\n",
              "      <td>No</td>\n",
              "      <td>Yes</td>\n",
              "      <td>42</td>\n",
              "      <td>199.5</td>\n",
              "      <td>119</td>\n",
              "      <td>33.92</td>\n",
              "      <td>135.0</td>\n",
              "      <td>90</td>\n",
              "      <td>11.48</td>\n",
              "      <td>184.6</td>\n",
              "      <td>49</td>\n",
              "      <td>8.31</td>\n",
              "      <td>10.9</td>\n",
              "      <td>3</td>\n",
              "      <td>2.94</td>\n",
              "      <td>4</td>\n",
              "      <td>True</td>\n",
              "      <td>KS415</td>\n",
              "    </tr>\n",
              "    <tr>\n",
              "      <th>3301</th>\n",
              "      <td>CA</td>\n",
              "      <td>84</td>\n",
              "      <td>415</td>\n",
              "      <td>No</td>\n",
              "      <td>No</td>\n",
              "      <td>0</td>\n",
              "      <td>280.0</td>\n",
              "      <td>113</td>\n",
              "      <td>47.60</td>\n",
              "      <td>202.2</td>\n",
              "      <td>90</td>\n",
              "      <td>17.19</td>\n",
              "      <td>156.8</td>\n",
              "      <td>103</td>\n",
              "      <td>7.06</td>\n",
              "      <td>10.4</td>\n",
              "      <td>4</td>\n",
              "      <td>2.81</td>\n",
              "      <td>0</td>\n",
              "      <td>True</td>\n",
              "      <td>CA415</td>\n",
              "    </tr>\n",
              "    <tr>\n",
              "      <th>3322</th>\n",
              "      <td>MD</td>\n",
              "      <td>62</td>\n",
              "      <td>408</td>\n",
              "      <td>No</td>\n",
              "      <td>No</td>\n",
              "      <td>0</td>\n",
              "      <td>321.1</td>\n",
              "      <td>105</td>\n",
              "      <td>54.59</td>\n",
              "      <td>265.5</td>\n",
              "      <td>122</td>\n",
              "      <td>22.57</td>\n",
              "      <td>180.5</td>\n",
              "      <td>72</td>\n",
              "      <td>8.12</td>\n",
              "      <td>11.5</td>\n",
              "      <td>2</td>\n",
              "      <td>3.11</td>\n",
              "      <td>4</td>\n",
              "      <td>True</td>\n",
              "      <td>MD408</td>\n",
              "    </tr>\n",
              "    <tr>\n",
              "      <th>3323</th>\n",
              "      <td>IN</td>\n",
              "      <td>117</td>\n",
              "      <td>415</td>\n",
              "      <td>No</td>\n",
              "      <td>No</td>\n",
              "      <td>0</td>\n",
              "      <td>118.4</td>\n",
              "      <td>126</td>\n",
              "      <td>20.13</td>\n",
              "      <td>249.3</td>\n",
              "      <td>97</td>\n",
              "      <td>21.19</td>\n",
              "      <td>227.0</td>\n",
              "      <td>56</td>\n",
              "      <td>10.22</td>\n",
              "      <td>13.6</td>\n",
              "      <td>3</td>\n",
              "      <td>3.67</td>\n",
              "      <td>5</td>\n",
              "      <td>True</td>\n",
              "      <td>IN415</td>\n",
              "    </tr>\n",
              "  </tbody>\n",
              "</table>\n",
              "<p>346 rows × 21 columns</p>\n",
              "</div>"
            ],
            "text/plain": [
              "     State  Account length  ...  Churn State_AreaCode\n",
              "10      IN              65  ...   True          IN415\n",
              "15      NY             161  ...   True          NY415\n",
              "21      CO              77  ...   True          CO408\n",
              "33      AZ              12  ...   True          AZ408\n",
              "48      ID             119  ...   True          ID415\n",
              "...    ...             ...  ...    ...            ...\n",
              "3280    AR              76  ...   True          AR408\n",
              "3287    KS             170  ...   True          KS415\n",
              "3301    CA              84  ...   True          CA415\n",
              "3322    MD              62  ...   True          MD408\n",
              "3323    IN             117  ...   True          IN415\n",
              "\n",
              "[346 rows x 21 columns]"
            ]
          },
          "metadata": {
            "tags": []
          },
          "execution_count": 46
        }
      ]
    },
    {
      "cell_type": "code",
      "metadata": {
        "id": "mLQzkjYbSYP_",
        "outputId": "8d1d6b2c-d0c9-41ff-8b68-815963d76c58",
        "colab": {
          "base_uri": "https://localhost:8080/"
        }
      },
      "source": [
        "len(df[(df[\"International plan\"]=='No')&(df[\"Churn\"]==True)])"
      ],
      "execution_count": 47,
      "outputs": [
        {
          "output_type": "execute_result",
          "data": {
            "text/plain": [
              "346"
            ]
          },
          "metadata": {
            "tags": []
          },
          "execution_count": 47
        }
      ]
    },
    {
      "cell_type": "code",
      "metadata": {
        "id": "6I66um01SYG8",
        "outputId": "5fac19e0-6a75-4705-f50f-154fad063f94",
        "colab": {
          "base_uri": "https://localhost:8080/"
        }
      },
      "source": [
        "len(df[(df[\"International plan\"]=='Yes')&(df[\"Churn\"]==True)]) #had international plan , and left services."
      ],
      "execution_count": 48,
      "outputs": [
        {
          "output_type": "execute_result",
          "data": {
            "text/plain": [
              "137"
            ]
          },
          "metadata": {
            "tags": []
          },
          "execution_count": 48
        }
      ]
    },
    {
      "cell_type": "code",
      "metadata": {
        "id": "udhDnXV2VrBd",
        "outputId": "5902e13f-c76a-4490-f947-124ee857450a",
        "colab": {
          "base_uri": "https://localhost:8080/",
          "height": 460
        }
      },
      "source": [
        "df[(df[\"Voice mail plan\"]=='No')&(df[\"Churn\"]==True)]"
      ],
      "execution_count": 49,
      "outputs": [
        {
          "output_type": "execute_result",
          "data": {
            "text/html": [
              "<div>\n",
              "<style scoped>\n",
              "    .dataframe tbody tr th:only-of-type {\n",
              "        vertical-align: middle;\n",
              "    }\n",
              "\n",
              "    .dataframe tbody tr th {\n",
              "        vertical-align: top;\n",
              "    }\n",
              "\n",
              "    .dataframe thead th {\n",
              "        text-align: right;\n",
              "    }\n",
              "</style>\n",
              "<table border=\"1\" class=\"dataframe\">\n",
              "  <thead>\n",
              "    <tr style=\"text-align: right;\">\n",
              "      <th></th>\n",
              "      <th>State</th>\n",
              "      <th>Account length</th>\n",
              "      <th>Area code</th>\n",
              "      <th>International plan</th>\n",
              "      <th>Voice mail plan</th>\n",
              "      <th>Number vmail messages</th>\n",
              "      <th>Total day minutes</th>\n",
              "      <th>Total day calls</th>\n",
              "      <th>Total day charge</th>\n",
              "      <th>Total eve minutes</th>\n",
              "      <th>Total eve calls</th>\n",
              "      <th>Total eve charge</th>\n",
              "      <th>Total night minutes</th>\n",
              "      <th>Total night calls</th>\n",
              "      <th>Total night charge</th>\n",
              "      <th>Total intl minutes</th>\n",
              "      <th>Total intl calls</th>\n",
              "      <th>Total intl charge</th>\n",
              "      <th>Customer service calls</th>\n",
              "      <th>Churn</th>\n",
              "      <th>State_AreaCode</th>\n",
              "    </tr>\n",
              "  </thead>\n",
              "  <tbody>\n",
              "    <tr>\n",
              "      <th>10</th>\n",
              "      <td>IN</td>\n",
              "      <td>65</td>\n",
              "      <td>415</td>\n",
              "      <td>No</td>\n",
              "      <td>No</td>\n",
              "      <td>0</td>\n",
              "      <td>129.1</td>\n",
              "      <td>137</td>\n",
              "      <td>21.95</td>\n",
              "      <td>228.5</td>\n",
              "      <td>83</td>\n",
              "      <td>19.42</td>\n",
              "      <td>208.8</td>\n",
              "      <td>111</td>\n",
              "      <td>9.40</td>\n",
              "      <td>12.7</td>\n",
              "      <td>6</td>\n",
              "      <td>3.43</td>\n",
              "      <td>4</td>\n",
              "      <td>True</td>\n",
              "      <td>IN415</td>\n",
              "    </tr>\n",
              "    <tr>\n",
              "      <th>15</th>\n",
              "      <td>NY</td>\n",
              "      <td>161</td>\n",
              "      <td>415</td>\n",
              "      <td>No</td>\n",
              "      <td>No</td>\n",
              "      <td>0</td>\n",
              "      <td>332.9</td>\n",
              "      <td>67</td>\n",
              "      <td>56.59</td>\n",
              "      <td>317.8</td>\n",
              "      <td>97</td>\n",
              "      <td>27.01</td>\n",
              "      <td>160.6</td>\n",
              "      <td>128</td>\n",
              "      <td>7.23</td>\n",
              "      <td>5.4</td>\n",
              "      <td>9</td>\n",
              "      <td>1.46</td>\n",
              "      <td>4</td>\n",
              "      <td>True</td>\n",
              "      <td>NY415</td>\n",
              "    </tr>\n",
              "    <tr>\n",
              "      <th>21</th>\n",
              "      <td>CO</td>\n",
              "      <td>77</td>\n",
              "      <td>408</td>\n",
              "      <td>No</td>\n",
              "      <td>No</td>\n",
              "      <td>0</td>\n",
              "      <td>62.4</td>\n",
              "      <td>89</td>\n",
              "      <td>10.61</td>\n",
              "      <td>169.9</td>\n",
              "      <td>121</td>\n",
              "      <td>14.44</td>\n",
              "      <td>209.6</td>\n",
              "      <td>64</td>\n",
              "      <td>9.43</td>\n",
              "      <td>5.7</td>\n",
              "      <td>6</td>\n",
              "      <td>1.54</td>\n",
              "      <td>5</td>\n",
              "      <td>True</td>\n",
              "      <td>CO408</td>\n",
              "    </tr>\n",
              "    <tr>\n",
              "      <th>33</th>\n",
              "      <td>AZ</td>\n",
              "      <td>12</td>\n",
              "      <td>408</td>\n",
              "      <td>No</td>\n",
              "      <td>No</td>\n",
              "      <td>0</td>\n",
              "      <td>249.6</td>\n",
              "      <td>118</td>\n",
              "      <td>42.43</td>\n",
              "      <td>252.4</td>\n",
              "      <td>119</td>\n",
              "      <td>21.45</td>\n",
              "      <td>280.2</td>\n",
              "      <td>90</td>\n",
              "      <td>12.61</td>\n",
              "      <td>11.8</td>\n",
              "      <td>3</td>\n",
              "      <td>3.19</td>\n",
              "      <td>1</td>\n",
              "      <td>True</td>\n",
              "      <td>AZ408</td>\n",
              "    </tr>\n",
              "    <tr>\n",
              "      <th>48</th>\n",
              "      <td>ID</td>\n",
              "      <td>119</td>\n",
              "      <td>415</td>\n",
              "      <td>No</td>\n",
              "      <td>No</td>\n",
              "      <td>0</td>\n",
              "      <td>159.1</td>\n",
              "      <td>114</td>\n",
              "      <td>27.05</td>\n",
              "      <td>231.3</td>\n",
              "      <td>117</td>\n",
              "      <td>19.66</td>\n",
              "      <td>143.2</td>\n",
              "      <td>91</td>\n",
              "      <td>6.44</td>\n",
              "      <td>8.8</td>\n",
              "      <td>3</td>\n",
              "      <td>2.38</td>\n",
              "      <td>5</td>\n",
              "      <td>True</td>\n",
              "      <td>ID415</td>\n",
              "    </tr>\n",
              "    <tr>\n",
              "      <th>...</th>\n",
              "      <td>...</td>\n",
              "      <td>...</td>\n",
              "      <td>...</td>\n",
              "      <td>...</td>\n",
              "      <td>...</td>\n",
              "      <td>...</td>\n",
              "      <td>...</td>\n",
              "      <td>...</td>\n",
              "      <td>...</td>\n",
              "      <td>...</td>\n",
              "      <td>...</td>\n",
              "      <td>...</td>\n",
              "      <td>...</td>\n",
              "      <td>...</td>\n",
              "      <td>...</td>\n",
              "      <td>...</td>\n",
              "      <td>...</td>\n",
              "      <td>...</td>\n",
              "      <td>...</td>\n",
              "      <td>...</td>\n",
              "      <td>...</td>\n",
              "    </tr>\n",
              "    <tr>\n",
              "      <th>3301</th>\n",
              "      <td>CA</td>\n",
              "      <td>84</td>\n",
              "      <td>415</td>\n",
              "      <td>No</td>\n",
              "      <td>No</td>\n",
              "      <td>0</td>\n",
              "      <td>280.0</td>\n",
              "      <td>113</td>\n",
              "      <td>47.60</td>\n",
              "      <td>202.2</td>\n",
              "      <td>90</td>\n",
              "      <td>17.19</td>\n",
              "      <td>156.8</td>\n",
              "      <td>103</td>\n",
              "      <td>7.06</td>\n",
              "      <td>10.4</td>\n",
              "      <td>4</td>\n",
              "      <td>2.81</td>\n",
              "      <td>0</td>\n",
              "      <td>True</td>\n",
              "      <td>CA415</td>\n",
              "    </tr>\n",
              "    <tr>\n",
              "      <th>3304</th>\n",
              "      <td>IL</td>\n",
              "      <td>71</td>\n",
              "      <td>510</td>\n",
              "      <td>Yes</td>\n",
              "      <td>No</td>\n",
              "      <td>0</td>\n",
              "      <td>186.1</td>\n",
              "      <td>114</td>\n",
              "      <td>31.64</td>\n",
              "      <td>198.6</td>\n",
              "      <td>140</td>\n",
              "      <td>16.88</td>\n",
              "      <td>206.5</td>\n",
              "      <td>80</td>\n",
              "      <td>9.29</td>\n",
              "      <td>13.8</td>\n",
              "      <td>5</td>\n",
              "      <td>3.73</td>\n",
              "      <td>4</td>\n",
              "      <td>True</td>\n",
              "      <td>IL510</td>\n",
              "    </tr>\n",
              "    <tr>\n",
              "      <th>3320</th>\n",
              "      <td>GA</td>\n",
              "      <td>122</td>\n",
              "      <td>510</td>\n",
              "      <td>Yes</td>\n",
              "      <td>No</td>\n",
              "      <td>0</td>\n",
              "      <td>140.0</td>\n",
              "      <td>101</td>\n",
              "      <td>23.80</td>\n",
              "      <td>196.4</td>\n",
              "      <td>77</td>\n",
              "      <td>16.69</td>\n",
              "      <td>120.1</td>\n",
              "      <td>133</td>\n",
              "      <td>5.40</td>\n",
              "      <td>9.7</td>\n",
              "      <td>4</td>\n",
              "      <td>2.62</td>\n",
              "      <td>4</td>\n",
              "      <td>True</td>\n",
              "      <td>GA510</td>\n",
              "    </tr>\n",
              "    <tr>\n",
              "      <th>3322</th>\n",
              "      <td>MD</td>\n",
              "      <td>62</td>\n",
              "      <td>408</td>\n",
              "      <td>No</td>\n",
              "      <td>No</td>\n",
              "      <td>0</td>\n",
              "      <td>321.1</td>\n",
              "      <td>105</td>\n",
              "      <td>54.59</td>\n",
              "      <td>265.5</td>\n",
              "      <td>122</td>\n",
              "      <td>22.57</td>\n",
              "      <td>180.5</td>\n",
              "      <td>72</td>\n",
              "      <td>8.12</td>\n",
              "      <td>11.5</td>\n",
              "      <td>2</td>\n",
              "      <td>3.11</td>\n",
              "      <td>4</td>\n",
              "      <td>True</td>\n",
              "      <td>MD408</td>\n",
              "    </tr>\n",
              "    <tr>\n",
              "      <th>3323</th>\n",
              "      <td>IN</td>\n",
              "      <td>117</td>\n",
              "      <td>415</td>\n",
              "      <td>No</td>\n",
              "      <td>No</td>\n",
              "      <td>0</td>\n",
              "      <td>118.4</td>\n",
              "      <td>126</td>\n",
              "      <td>20.13</td>\n",
              "      <td>249.3</td>\n",
              "      <td>97</td>\n",
              "      <td>21.19</td>\n",
              "      <td>227.0</td>\n",
              "      <td>56</td>\n",
              "      <td>10.22</td>\n",
              "      <td>13.6</td>\n",
              "      <td>3</td>\n",
              "      <td>3.67</td>\n",
              "      <td>5</td>\n",
              "      <td>True</td>\n",
              "      <td>IN415</td>\n",
              "    </tr>\n",
              "  </tbody>\n",
              "</table>\n",
              "<p>403 rows × 21 columns</p>\n",
              "</div>"
            ],
            "text/plain": [
              "     State  Account length  ...  Churn State_AreaCode\n",
              "10      IN              65  ...   True          IN415\n",
              "15      NY             161  ...   True          NY415\n",
              "21      CO              77  ...   True          CO408\n",
              "33      AZ              12  ...   True          AZ408\n",
              "48      ID             119  ...   True          ID415\n",
              "...    ...             ...  ...    ...            ...\n",
              "3301    CA              84  ...   True          CA415\n",
              "3304    IL              71  ...   True          IL510\n",
              "3320    GA             122  ...   True          GA510\n",
              "3322    MD              62  ...   True          MD408\n",
              "3323    IN             117  ...   True          IN415\n",
              "\n",
              "[403 rows x 21 columns]"
            ]
          },
          "metadata": {
            "tags": []
          },
          "execution_count": 49
        }
      ]
    },
    {
      "cell_type": "code",
      "metadata": {
        "id": "QzV0axwIVrE6",
        "outputId": "562a2993-f954-496a-b14d-34e1982aa9ab",
        "colab": {
          "base_uri": "https://localhost:8080/"
        }
      },
      "source": [
        "#Voice Mail Plan\n",
        "en(df[(df[\"Voice mail plan\"]=='No')&(df[\"Churn\"]==True)])"
      ],
      "execution_count": 50,
      "outputs": [
        {
          "output_type": "execute_result",
          "data": {
            "text/plain": [
              "403"
            ]
          },
          "metadata": {
            "tags": []
          },
          "execution_count": 50
        }
      ]
    },
    {
      "cell_type": "code",
      "metadata": {
        "id": "OChaRhf-VrKa",
        "outputId": "0883d05e-9ef6-489c-a59c-54e1a905684d",
        "colab": {
          "base_uri": "https://localhost:8080/"
        }
      },
      "source": [
        "len(df[(df[\"Voice mail plan\"]=='Yes')&(df[\"Churn\"]==True)])"
      ],
      "execution_count": 51,
      "outputs": [
        {
          "output_type": "execute_result",
          "data": {
            "text/plain": [
              "80"
            ]
          },
          "metadata": {
            "tags": []
          },
          "execution_count": 51
        }
      ]
    },
    {
      "cell_type": "markdown",
      "metadata": {
        "id": "TTui1L8WWSrN"
      },
      "source": [
        "From above we can consider like ,people not using Voice mail plan likely to be leaving services"
      ]
    },
    {
      "cell_type": "code",
      "metadata": {
        "id": "UGIBRyKvVrIF"
      },
      "source": [
        "df['Effective_charge'] = df.apply(lambda x: (x['Total day charge']+x['Total eve charge']+x['Total night charge']+x['Total intl charge'])/(x['Total day minutes']+x['Total eve minutes']+x['Total night minutes']+x['Total intl minutes']),axis=1)"
      ],
      "execution_count": 57,
      "outputs": []
    },
    {
      "cell_type": "code",
      "metadata": {
        "id": "JmHT6wpbVq_n",
        "outputId": "1aaafa50-a987-4099-eb41-c11570a90e79",
        "colab": {
          "base_uri": "https://localhost:8080/",
          "height": 353
        }
      },
      "source": [
        "sns.distplot(df_of_churn['Effective_charge'],hist=True)"
      ],
      "execution_count": 65,
      "outputs": [
        {
          "output_type": "stream",
          "text": [
            "/usr/local/lib/python3.6/dist-packages/seaborn/distributions.py:2551: FutureWarning: `distplot` is a deprecated function and will be removed in a future version. Please adapt your code to use either `displot` (a figure-level function with similar flexibility) or `histplot` (an axes-level function for histograms).\n",
            "  warnings.warn(msg, FutureWarning)\n"
          ],
          "name": "stderr"
        },
        {
          "output_type": "execute_result",
          "data": {
            "text/plain": [
              "<matplotlib.axes._subplots.AxesSubplot at 0x7f866e7b22b0>"
            ]
          },
          "metadata": {
            "tags": []
          },
          "execution_count": 65
        },
        {
          "output_type": "display_data",
          "data": {
            "image/png": "[encoded data removed]",
            "text/plain": [
              "<Figure size 432x288 with 1 Axes>"
            ]
          },
          "metadata": {
            "tags": [],
            "needs_background": "light"
          }
        }
      ]
    },
    {
      "cell_type": "markdown",
      "metadata": {
        "id": "ZgBgOfPhYolf"
      },
      "source": [
        "By seeing above graph, most common thing which comes in mind is , its first look.\n",
        "It tells us that its Left skewed .\n"
      ]
    },
    {
      "cell_type": "code",
      "metadata": {
        "id": "NzgmobQUYA-0",
        "outputId": "a14bab04-5e45-4c2e-f7c9-5df555fba5b7",
        "colab": {
          "base_uri": "https://localhost:8080/",
          "height": 353
        }
      },
      "source": [
        "sns.boxplot(df_of_churn['Effective_charge'])"
      ],
      "execution_count": 66,
      "outputs": [
        {
          "output_type": "stream",
          "text": [
            "/usr/local/lib/python3.6/dist-packages/seaborn/_decorators.py:43: FutureWarning: Pass the following variable as a keyword arg: x. From version 0.12, the only valid positional argument will be `data`, and passing other arguments without an explicit keyword will result in an error or misinterpretation.\n",
            "  FutureWarning\n"
          ],
          "name": "stderr"
        },
        {
          "output_type": "execute_result",
          "data": {
            "text/plain": [
              "<matplotlib.axes._subplots.AxesSubplot at 0x7f866e748940>"
            ]
          },
          "metadata": {
            "tags": []
          },
          "execution_count": 66
        },
        {
          "output_type": "display_data",
          "data": {
            "image/png": "[encoded data removed]",
            "text/plain": [
              "<Figure size 432x288 with 1 Axes>"
            ]
          },
          "metadata": {
            "tags": [],
            "needs_background": "light"
          }
        }
      ]
    }
  ]
}